{
 "cells": [
  {
   "cell_type": "code",
   "execution_count": 1,
   "metadata": {},
   "outputs": [],
   "source": [
    "#search for tweets with a certain word\n",
    "def wordfinder(word :str):\n",
    "    direct = []\n",
    "    for i in range(len(klm_tweets)):\n",
    "        if word not in klm_tweets['text'][i]:\n",
    "            continue\n",
    "        else: \n",
    "            direct.append(klm_tweets.loc[i])\n",
    "    df_direct=pd.DataFrame(direct)\n",
    "    return(df_direct)"
   ]
  }
 ],
 "metadata": {
  "kernelspec": {
   "display_name": "Python 3",
   "language": "python",
   "name": "python3"
  },
  "language_info": {
   "codemirror_mode": {
    "name": "ipython",
    "version": 3
   },
   "file_extension": ".py",
   "mimetype": "text/x-python",
   "name": "python",
   "nbconvert_exporter": "python",
   "pygments_lexer": "ipython3",
   "version": "3.6.5"
  }
 },
 "nbformat": 4,
 "nbformat_minor": 2
}
