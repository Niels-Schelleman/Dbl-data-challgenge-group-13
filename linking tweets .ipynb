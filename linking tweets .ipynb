{
 "cells": [
  {
   "cell_type": "code",
   "execution_count": null,
   "metadata": {},
   "outputs": [],
   "source": [
    "def linkedTweetsKLM(data):\n",
    "\n",
    "    linked_tweets = pd.DataFrame(columns=['OriginalTweetID', 'replyTweetID', 'screenname' ])\n",
    "    linked_tweets['OriginalTweetID']=data.loc[data['in_reply_to_status_id'].isnull()==False,'in_reply_to_status_id']\n",
    "    linked_tweets['replyTweetID']=data.loc[data['in_reply_to_status_id'].isnull()==False,'id']\n",
    "    linked_tweets['screenname'] = data.loc[data['in_reply_to_screen_name'].isnull()==False,'in_reply_to_screen_name']\n",
    "    repliesklm = linked_tweets['screenname']== 'KLM'\n",
    "    linked_tweets['OriginalTweetID'] = linked_tweets[repliesklm]\n",    
    "\n",
    "    linked_tweets =linked_tweets.reset_index().drop(\"index\", axis=1)\n",
    "\n",
    "    return (linked_tweets).dropna()"
   
    "def linkedTweetsBa(data):\n",
    "\n",
    "    linked_tweets = pd.DataFrame(columns=['OriginalTweetID', 'replyTweetID', 'screenname' ])\n",
    "    linked_tweets['OriginalTweetID']=data.loc[data['in_reply_to_status_id'].isnull()==False,'in_reply_to_status_id']\n",
    "    linked_tweets['replyTweetID']=data.loc[data['in_reply_to_status_id'].isnull()==False,'id']\n",
    "    linked_tweets['screenname'] = data.loc[data['in_reply_to_screen_name'].isnull()==False,'in_reply_to_screen_name']\n",
    "    repliesba = linked_tweets['screenname']== 'British_Airways'\n",
    "    linked_tweets['OriginalTweetID'] = linked_tweets[repliesba]\n",    
    "\n",
    "    linked_tweets =linked_tweets.reset_index().drop(\"index\", axis=1)\n",
    "\n",
    "    return (linked_tweets).dropna()"
   ]
  
  }
 ],
 "metadata": {
  "kernelspec": {
   "display_name": "Python 3",
   "language": "python",
   "name": "python3"
  },
  "language_info": {
   "codemirror_mode": {
    "name": "ipython",
    "version": 3
   },
   "file_extension": ".py",
   "mimetype": "text/x-python",
   "name": "python",
   "nbconvert_exporter": "python",
   "pygments_lexer": "ipython3",
   "version": "3.7.1"
  }
 },
 "nbformat": 4,
 "nbformat_minor": 2
}
