{
 "cells": [
  {
   "cell_type": "code",
   "execution_count": null,
   "metadata": {},
   "outputs": [],
   "source": [
    "#add the following functions to the class Filter: \n",
    "    def ToKlm(self):\n",
    "        #gets list of conversation starting points from filter\n",
    "        Convlist = Filter(self.data,self.klm).tweetsKLM()\n",
    "        #gets tweets which could be in the conversation\n",
    "        Orgtweet = Filter(self.data,self.klm).getat()\n",
    "\n",
    "        #gets list of users which talked to klm at some point\n",
    "        Convlist['convpoint'] = Convlist['in_reply_to_user_id']\n",
    "        #gets tweets from these users\n",
    "        TweetsOforg = Orgtweet[Orgtweet['user.id'].isin(list(Convlist['convpoint']))]\n",
    "\n",
    "        #Gets only the tweets which are @ any klm account\n",
    "        TweetsOforg['twee'] = TweetsOforg['text'].str.extract(r'.*@((?:KLM|klm)(?:[a-zA-Z0-9_]*)).*',expand=False)\n",
    "        TweetsOforg = TweetsOforg[TweetsOforg['twee'] == TweetsOforg['twee']]\n",
    "        return TweetsOforg\n",
    "    \n",
    "    def ToBaw(self):\n",
    "        #gets list of conversation starting points from filter\n",
    "        Convlist = Filter(self.data,self.klm).tweetsBAW()\n",
    "        #gets tweets which could be in the conversation\n",
    "        Orgtweet = Filter(self.data,self.klm).getat()\n",
    "\n",
    "        #gets list of users which talked to klm at some point\n",
    "        Convlist['convpoint'] = Convlist['in_reply_to_user_id']\n",
    "        #gets tweets from these users\n",
    "        TweetsOforg = Orgtweet[Orgtweet['user.id'].isin(list(Convlist['convpoint']))]\n",
    "\n",
    "        #Gets only the tweets which are @ any Baw account\n",
    "        TweetsOforg['twee'] = TweetsOforg['text'].str.extract(r'.*@(British_Airways).*',expand=False)\n",
    "        TweetsOforg = TweetsOforg[TweetsOforg['twee'] == TweetsOforg['twee']]\n",
    "        return TweetsOforg\n",
    "    "
   ]
  },
  {
   "cell_type": "code",
   "execution_count": null,
   "metadata": {},
   "outputs": [],
   "source": [
    "#add these lines to def execute:\n",
    "if 8 in which:\n",
    "        retlist.append(Filter(Datafile,klmlist).ToKlm())\n",
    "    if 9 in which:\n",
    "        retlist.append(Filter(Datafile,klmlist).ToBaw())"
   ]
  }
 ],
 "metadata": {
  "kernelspec": {
   "display_name": "Python 3",
   "language": "python",
   "name": "python3"
  },
  "language_info": {
   "codemirror_mode": {
    "name": "ipython",
    "version": 3
   },
   "file_extension": ".py",
   "mimetype": "text/x-python",
   "name": "python",
   "nbconvert_exporter": "python",
   "pygments_lexer": "ipython3",
   "version": "3.7.1"
  }
 },
 "nbformat": 4,
 "nbformat_minor": 2
}
