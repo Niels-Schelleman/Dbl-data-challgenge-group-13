{
 "cells": [
  {
   "cell_type": "code",
   "execution_count": 12,
   "metadata": {
    "collapsed": true
   },
   "outputs": [],
   "source": [
    "import pandas"
   ]
  },
  {
   "cell_type": "code",
   "execution_count": 102,
   "metadata": {},
   "outputs": [],
   "source": [
    "def textToFrame(textfiles):\n",
    "    filenames = open(textfiles, 'r')\n",
    "    filestring = filenames.read()\n",
    "    listOfFilenames = filestring.split('\\n')\n",
    "    dictOfFilenames = {}\n",
    "    dictOfFilenames['file'] = listOfFilenames\n",
    "    datfiles = pandas.DataFrame(dictOfFilenames)\n",
    "    return datfiles\n",
    "def Frameindexer(frame,numberback,file):\n",
    "    index = frame[frame['file']==file].index\n",
    "    newindexmin = index-numberback\n",
    "    newindexmax = index[0]+1\n",
    "    fullList = list(frame.loc[range(int(newindexmin[0]),int(newindexmax))]['file'])\n",
    "    return [fullList for fullList in fullList if str(fullList) != 'nan']"
   ]
  }
 ],
 "metadata": {
  "kernelspec": {
   "display_name": "Python 3",
   "language": "python",
   "name": "python3"
  },
  "language_info": {
   "codemirror_mode": {
    "name": "ipython",
    "version": 3
   },
   "file_extension": ".py",
   "mimetype": "text/x-python",
   "name": "python",
   "nbconvert_exporter": "python",
   "pygments_lexer": "ipython3",
   "version": "3.6.1"
  }
 },
 "nbformat": 4,
 "nbformat_minor": 2
}
