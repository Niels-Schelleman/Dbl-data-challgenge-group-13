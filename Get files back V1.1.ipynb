{
 "cells": [
  {
   "cell_type": "code",
   "execution_count": 1,
   "metadata": {
    "collapsed": true
   },
   "outputs": [],
   "source": [
    "import pandas"
   ]
  },
  {
   "cell_type": "code",
   "execution_count": 40,
   "metadata": {
    "collapsed": true
   },
   "outputs": [],
   "source": [
    "def textToFrame(textfiles):\n",
    "    filenames = open(textfiles, 'r')\n",
    "    filestring = filenames.read()\n",
    "    listOfFilenames = filestring.split('\\n')\n",
    "    dictOfFilenames = {}\n",
    "    dictOfFilenames['file'] = listOfFilenames\n",
    "    datfiles = pandas.DataFrame(dictOfFilenames)\n",
    "    return datfiles\n",
    "def Frameindexer(frame,numberback,file):\n",
    "    index = frame[frame['file']==file].index\n",
    "    try:\n",
    "        index = index[0]\n",
    "    except:\n",
    "        return 'problem with file: '+file+' does not exist in list of files'\n",
    "    newindexmin = index-numberback\n",
    "    newindexmax = index+1\n",
    "    fullList = list(frame.loc[range(int(newindexmin),int(newindexmax))]['file'])\n",
    "    return [fullList for fullList in fullList if str(fullList) != 'nan']"
   ]
  },
  {
   "cell_type": "code",
   "execution_count": 42,
   "metadata": {},
   "outputs": [
    {
     "data": {
      "text/plain": [
       "['airlines-1465073304752.json',\n",
       " 'airlines-1465161174895.json',\n",
       " 'airlines-1465230427503.json']"
      ]
     },
     "execution_count": 42,
     "metadata": {},
     "output_type": "execute_result"
    }
   ],
   "source": [
    "Frameindexer(textToFrame('json/filenames.txt'),2,'airlines-1465230427503.json')"
   ]
  }
 ],
 "metadata": {
  "kernelspec": {
   "display_name": "Python 3",
   "language": "python",
   "name": "python3"
  },
  "language_info": {
   "codemirror_mode": {
    "name": "ipython",
    "version": 3
   },
   "file_extension": ".py",
   "mimetype": "text/x-python",
   "name": "python",
   "nbconvert_exporter": "python",
   "pygments_lexer": "ipython3",
   "version": "3.6.1"
  }
 },
 "nbformat": 4,
 "nbformat_minor": 2
}
