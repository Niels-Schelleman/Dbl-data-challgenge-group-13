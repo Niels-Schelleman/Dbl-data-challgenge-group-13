{
 "cells": [
  {
   "cell_type": "code",
   "execution_count": 58,
   "metadata": {},
   "outputs": [
    {
     "name": "stderr",
     "output_type": "stream",
     "text": [
      "C:\\Users\\Bram\\AppData\\Local\\Continuum\\anaconda3\\lib\\site-packages\\IPython\\core\\interactiveshell.py:3049: DtypeWarning: Columns (1,3,4,5,6,11,14,17,18,19) have mixed types. Specify dtype option on import or set low_memory=False.\n",
      "  interactivity=interactivity, compiler=compiler, result=result)\n"
     ]
    }
   ],
   "source": [
    "import pandas as pd\n",
    "\n",
    "dataframe = pd.read_csv('sentimentbaw.csv', encoding = 'utf-16')"
   ]
  },
  {
   "cell_type": "code",
   "execution_count": 62,
   "metadata": {},
   "outputs": [],
   "source": [
    "def categorise(dataframe):\n",
    "    complain = ['complain', 'klacht']\n",
    "    luggage = ['luggage', 'suitcase', 'bag', 'koffer', 'tas', 'equipaje', 'bolsa', 'maleta']\n",
    "    delay = ['delay', 'miss', 'on time', 'late', 'vertraging', 'gemist', 'te laat']\n",
    "    cancelling = ['cancel', 'afgelast']\n",
    "    promotion = [' offer', 'promotion', 'promotie', 'aanbieding']\n",
    "    staff = ['staff', 'strike', 'steward', 'service', 'personeel']\n",
    "    money = ['cost', '£', 'refund', 'expensive', 'duur']\n",
    "    allcat = complain + luggage + delay + cancelling + promotion + staff + money\n",
    "\n",
    "    complain_tweets = dataframe[dataframe['text'].str.contains('|'.join(complain), na = False)]\n",
    "    luggage_tweets = dataframe[dataframe['text'].str.contains('|'.join(luggage), na = False)]\n",
    "    delay_tweets = dataframe[dataframe['text'].str.contains('|'.join(delay), na = False)]\n",
    "    cancelling_tweets = dataframe[dataframe['text'].str.contains('|'.join(cancelling), na = False)]\n",
    "    promotion_tweets = dataframe[dataframe['text'].str.contains('|'.join(promotion), na = False)]\n",
    "    staff_tweets = dataframe[dataframe['text'].str.contains('|'.join(staff), na = False)]\n",
    "    money_tweets = dataframe[dataframe['text'].str.contains('|'.join(money), na = False)]\n",
    "    misc_tweets = dataframe[~dataframe['text'].str.contains('|'.join(allcat), na = False)]\n",
    "\n",
    "    category_dict = {\n",
    "        'complain': complain_tweets,\n",
    "        'luggage': luggage_tweets,\n",
    "        'delay': delay_tweets,\n",
    "        'cancelling': cancelling_tweets,\n",
    "        'promotion': promotion_tweets,\n",
    "        'staff': staff_tweets,\n",
    "        'money': money_tweets,\n",
    "        'misc': misc_tweets\n",
    "    }\n",
    "    return category_dict"
   ]
  },
  {
   "cell_type": "code",
   "execution_count": null,
   "metadata": {},
   "outputs": [],
   "source": []
  },
  {
   "cell_type": "code",
   "execution_count": 63,
   "metadata": {},
   "outputs": [],
   "source": [
    "category_dict_baw = categorise(dataframe)"
   ]
  },
  {
   "cell_type": "code",
   "execution_count": 64,
   "metadata": {},
   "outputs": [
    {
     "name": "stdout",
     "output_type": "stream",
     "text": [
      "0.09798900315650137\n",
      "0.05811526321148559\n",
      "0.058831415673896076\n",
      "0.019568611478803923\n",
      "0.024686895428164136\n",
      "0.008950208736381225\n",
      "0.022187149984726606\n",
      "0.7433306180633337\n",
      "0.008950208736381225\n"
     ]
    }
   ],
   "source": [
    "print(len(category_dict_baw['luggage'])/len(dataframe))\n",
    "print(len(category_dict_baw['delay'])/len(dataframe))\n",
    "print(len(category_dict_baw['staff'])/len(dataframe))\n",
    "print(len(category_dict_baw['cancelling'])/len(dataframe))\n",
    "print(len(category_dict_baw['money'])/len(dataframe))\n",
    "print(len(category_dict_baw['complain'])/len(dataframe))\n",
    "print(len(category_dict_baw['promotion'])/len(dataframe))\n",
    "print(len(category_dict_baw['misc'])/len(dataframe))\n",
    "print(len(category_dict_baw['complain'])/len(dataframe))"
   ]
  },
  {
   "cell_type": "code",
   "execution_count": 65,
   "metadata": {},
   "outputs": [],
   "source": [
    "dataframeklm = pd.read_csv('sentimentklm.csv', encoding = 'utf-16')"
   ]
  },
  {
   "cell_type": "code",
   "execution_count": 66,
   "metadata": {},
   "outputs": [],
   "source": [
    "dataframeklm_dutch = dataframeklm[dataframeklm['lang']=='nl']\n",
    "dataframeklm_english= dataframeklm[dataframeklm['lang']=='en']"
   ]
  },
  {
   "cell_type": "code",
   "execution_count": 67,
   "metadata": {},
   "outputs": [],
   "source": [
    "category_dict_klm_dutch = categorise(dataframeklm_dutch)\n",
    "category_dict_klm_english = categorise(dataframeklm_english)"
   ]
  },
  {
   "cell_type": "code",
   "execution_count": 68,
   "metadata": {},
   "outputs": [
    {
     "name": "stdout",
     "output_type": "stream",
     "text": [
      "luggage: 0.06769639835629683 0.09798900315650137\n",
      "delay: 0.04138264442832971 0.05811526321148559\n",
      "staff: 0.03519458544839255 0.058831415673896076\n",
      "cancelling: 0.012704858593183467 0.019568611478803923\n",
      "money: 0.010713077109016195 0.024686895428164136\n",
      "complain: 0.0028909838046893887 0.008950208736381225\n",
      "promotion: 0.005100314237370075 0.022187149984726606\n",
      "misc: 0.8430311820159536 0.7433306180633337\n"
     ]
    }
   ],
   "source": [
    "print('luggage:', len(category_dict_klm['luggage'])/len(dataframeklm), len(category_dict_baw['luggage'])/len(dataframe))\n",
    "print('delay:', len(category_dict_klm['delay'])/len(dataframeklm), len(category_dict_baw['delay'])/len(dataframe))\n",
    "print('staff:', len(category_dict_klm['staff'])/len(dataframeklm), len(category_dict_baw['staff'])/len(dataframe))\n",
    "print('cancelling:', len(category_dict_klm['cancelling'])/len(dataframeklm), len(category_dict_baw['cancelling'])/len(dataframe))\n",
    "print('money:', len(category_dict_klm['money'])/len(dataframeklm), len(category_dict_baw['money'])/len(dataframe))\n",
    "print('complain:', len(category_dict_klm['complain'])/len(dataframeklm), len(category_dict_baw['complain'])/len(dataframe))\n",
    "print('promotion:', len(category_dict_klm['promotion'])/len(dataframeklm), len(category_dict_baw['promotion'])/len(dataframe))\n",
    "print('misc:', len(category_dict_klm['misc'])/len(dataframeklm), len(category_dict_baw['misc'])/len(dataframe))\n"
   ]
  },
  {
   "cell_type": "code",
   "execution_count": 32,
   "metadata": {},
   "outputs": [
    {
     "name": "stdout",
     "output_type": "stream",
     "text": [
      "-0.7670568561872908\n",
      "0.09774885694105802\n",
      "-0.23994965258547318\n",
      "-0.08860168877292168\n",
      "0.11659670503272405\n",
      "0.10195189387427661\n",
      "0.002497056514913662\n",
      "0.2533462293960807\n"
     ]
    }
   ],
   "source": [
    "pd.set_option('display.max_colwidth', -1)\n",
    "print(category_dict_klm['complain']['sentiment'].mean())\n",
    "print(category_dict_klm['luggage']['sentiment'].mean())\n",
    "print(category_dict_klm['delay']['sentiment'].mean())\n",
    "print(category_dict_klm['cancelling']['sentiment'].mean())\n",
    "print(category_dict_klm['promotion']['sentiment'].mean())\n",
    "print(category_dict_klm['money']['sentiment'].mean())\n",
    "print(category_dict_klm['staff']['sentiment'].mean())\n",
    "print(category_dict_klm['misc']['sentiment'].mean())"
   ]
  },
  {
   "cell_type": "code",
   "execution_count": 49,
   "metadata": {},
   "outputs": [
    {
     "name": "stdout",
     "output_type": "stream",
     "text": [
      "-0.31112412177985965\n",
      "-0.01847058160042658\n",
      "-0.30759680680279633\n",
      "-0.3803785542994175\n",
      "-0.07527395895596733\n",
      "-0.025413388543823363\n",
      "0.08433838274020936\n",
      "0.0213614300891665\n",
      "\n",
      "-0.768900055834729\n",
      "0.13074430689286298\n",
      "-0.21648870405754742\n",
      "-0.05408510638297871\n",
      "0.1727941176470589\n",
      "0.14658019210121587\n",
      "-0.023665694182255\n",
      "0.3333114445840032\n",
      "\n",
      "-0.7521331058020474\n",
      "-0.4864249549903921\n",
      "-0.5347368464965715\n",
      "-0.12630468094948943\n",
      "0.6355234307276527\n",
      "0.062179172315329594\n",
      "-0.18909068430487785\n",
      "0.11969568255899338\n"
     ]
    }
   ],
   "source": [
    "print(category_dict_klm_dutch['complain']['sentiment'].mean())\n",
    "print(category_dict_klm_dutch['luggage']['sentiment'].mean())\n",
    "print(category_dict_klm_dutch['delay']['sentiment'].mean())\n",
    "print(category_dict_klm_dutch['cancelling']['sentiment'].mean())\n",
    "print(category_dict_klm_dutch['promotion']['sentiment'].mean())\n",
    "print(category_dict_klm_dutch['money']['sentiment'].mean())\n",
    "print(category_dict_klm_dutch['staff']['sentiment'].mean())\n",
    "print(category_dict_klm_dutch['misc']['sentiment'].mean())\n",
    "print()\n",
    "print(category_dict_klm_english['complain']['sentiment'].mean())\n",
    "print(category_dict_klm_english['luggage']['sentiment'].mean())\n",
    "print(category_dict_klm_english['delay']['sentiment'].mean())\n",
    "print(category_dict_klm_english['cancelling']['sentiment'].mean())\n",
    "print(category_dict_klm_english['promotion']['sentiment'].mean())\n",
    "print(category_dict_klm_english['money']['sentiment'].mean())\n",
    "print(category_dict_klm_english['staff']['sentiment'].mean())\n",
    "print(category_dict_klm_english['misc']['sentiment'].mean())\n",
    "print()\n",
    "print(category_dict_baw['complain']['sentiment'].mean())\n",
    "print(category_dict_baw['luggage']['sentiment'].mean())\n",
    "print(category_dict_baw['delay']['sentiment'].mean())\n",
    "print(category_dict_baw['cancelling']['sentiment'].mean())\n",
    "print(category_dict_baw['promotion']['sentiment'].mean())\n",
    "print(category_dict_baw['money']['sentiment'].mean())\n",
    "print(category_dict_baw['staff']['sentiment'].mean())\n",
    "print(category_dict_baw['misc']['sentiment'].mean())\n",
    "\n"
   ]
  },
  {
   "cell_type": "code",
   "execution_count": 73,
   "metadata": {},
   "outputs": [],
   "source": [
    "baw_sentiment = []\n",
    "for i in range(0, len(dataframe)):\n",
    "    baw_sentiment.append(dataframe['sentiment'][i])"
   ]
  },
  {
   "cell_type": "code",
   "execution_count": 77,
   "metadata": {},
   "outputs": [],
   "source": [
    "klm_sentiment = []\n",
    "for i in range(0, len(dataframeklm)):\n",
    "    klm_sentiment.append(dataframeklm['sentiment'][i])"
   ]
  },
  {
   "cell_type": "code",
   "execution_count": 79,
   "metadata": {},
   "outputs": [
    {
     "name": "stdout",
     "output_type": "stream",
     "text": [
      "RanksumsResult(statistic=-5.686130307459821, pvalue=1.2995025442886993e-08)\n"
     ]
    }
   ],
   "source": [
    "from scipy.stats import ranksums\n",
    "\n",
    "print(ranksums(klm_sentiment, baw_sentiment))"
   ]
  },
  {
   "cell_type": "code",
   "execution_count": null,
   "metadata": {},
   "outputs": [],
   "source": []
  }
 ],
 "metadata": {
  "kernelspec": {
   "display_name": "Python 3",
   "language": "python",
   "name": "python3"
  },
  "language_info": {
   "codemirror_mode": {
    "name": "ipython",
    "version": 3
   },
   "file_extension": ".py",
   "mimetype": "text/x-python",
   "name": "python",
   "nbconvert_exporter": "python",
   "pygments_lexer": "ipython3",
   "version": "3.7.3"
  }
 },
 "nbformat": 4,
 "nbformat_minor": 2
}
