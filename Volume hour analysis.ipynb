{
 "cells": [
  {
   "cell_type": "code",
   "execution_count": 1,
   "metadata": {},
   "outputs": [
    {
     "name": "stderr",
     "output_type": "stream",
     "text": [
      "C:\\ProgramData\\Anaconda3\\lib\\site-packages\\statsmodels\\compat\\pandas.py:56: FutureWarning: The pandas.core.datetools module is deprecated and will be removed in a future version. Please use the pandas.tseries module instead.\n",
      "  from pandas.core import datetools\n"
     ]
    }
   ],
   "source": [
    "import numpy as np\n",
    "import pandas as pd\n",
    "import ast\n",
    "import statsmodels.api as sm\n",
    "import sqlite3\n",
    "import datetime\n",
    "\n",
    "# next command ensures that plots appear inside the notebook\n",
    "%matplotlib inline\n",
    "import matplotlib as mpl\n",
    "import matplotlib.pyplot as plt\n",
    "mpl.colors\n",
    "import seaborn as sns  # also improves the look of plots\n",
    "sns.set()\n",
    "plt.rcParams['figure.figsize'] = 10, 5  # default hor./vert. size of plots, in inches\n",
    "plt.rcParams['lines.markeredgewidth'] = 1  # to fix issue with seaborn box plots; needed after import seaborn"
   ]
  },
  {
   "cell_type": "code",
   "execution_count": 2,
   "metadata": {},
   "outputs": [
    {
     "name": "stderr",
     "output_type": "stream",
     "text": [
      "C:\\ProgramData\\Anaconda3\\lib\\site-packages\\IPython\\core\\interactiveshell.py:2717: DtypeWarning: Columns (18) have mixed types. Specify dtype option on import or set low_memory=False.\n",
      "  interactivity=interactivity, compiler=compiler, result=result)\n",
      "C:\\ProgramData\\Anaconda3\\lib\\site-packages\\IPython\\core\\interactiveshell.py:2717: DtypeWarning: Columns (0,5) have mixed types. Specify dtype option on import or set low_memory=False.\n",
      "  interactivity=interactivity, compiler=compiler, result=result)\n",
      "C:\\ProgramData\\Anaconda3\\lib\\site-packages\\IPython\\core\\interactiveshell.py:2717: DtypeWarning: Columns (0) have mixed types. Specify dtype option on import or set low_memory=False.\n",
      "  interactivity=interactivity, compiler=compiler, result=result)\n"
     ]
    }
   ],
   "source": [
    "ba_tweets = pd.read_csv('Full datasets/ba_tweets.csv', encoding = 'unicode_escape')\n",
    "to_ba_tweets = pd.read_csv('Full datasets/to_ba.csv')\n",
    "ba_convers = pd.read_csv('Full datasets/BAconvers.csv', encoding = 'utf-16')\n",
    "klm_tweets = pd.read_csv('Full datasets/klm_tweets.csv')\n",
    "to_klm_tweets = pd.read_csv('Full datasets/to_klm.csv')\n",
    "klm_convers = pd.read_csv('Full datasets/KLMconvers.csv', encoding = 'utf-16')"
   ]
  },
  {
   "cell_type": "code",
   "execution_count": 3,
   "metadata": {
    "collapsed": true
   },
   "outputs": [],
   "source": [
    "def add_dates(df, column : str):\n",
    "    '''Takes a column with a date, changes this into a datetime object and then substracts all elements of this object and \n",
    "    adds them all to seperate columns.'''\n",
    "    \n",
    "    df[column] = pd.to_datetime(df[column], errors='coerce')\n",
    "    \n",
    "    df['weekday'] = df[column].dt.weekday\n",
    "    df['hour'] = df[column].dt.hour\n",
    "    df['month'] = df[column].dt.month\n",
    "    df['year'] = df[column].dt.year\n",
    "    df['day'] = df[column].dt.day\n",
    "    \n",
    "    df_ints = df.dropna(subset=['day', 'hour']).astype({'day':int, 'hour':int})\n",
    "    \n",
    "    return(df_ints)"
   ]
  },
  {
   "cell_type": "code",
   "execution_count": 4,
   "metadata": {
    "collapsed": true
   },
   "outputs": [],
   "source": [
    "ba_tweets = add_dates(ba_tweets, 'created_at')\n",
    "to_ba_tweets = add_dates(to_ba_tweets, 'created_at')\n",
    "ba_convers = add_dates(ba_convers, 'created_at')\n",
    "klm_tweets = add_dates(klm_tweets, 'created_at')\n",
    "to_klm_tweets = add_dates(to_klm_tweets, 'created_at')\n",
    "klm_convers = add_dates(klm_convers, 'created_at')"
   ]
  },
  {
   "cell_type": "code",
   "execution_count": null,
   "metadata": {
    "collapsed": true
   },
   "outputs": [],
   "source": [
    "def to_matrix(df):\n",
    "    '''Groups the data in the given dataset by day and hour, counts the values per hour of the day and converts these values\n",
    "    into a matrix.'''\n",
    "    \n",
    "    df_grouped = df.groupby(['hour', 'day']).count().reset_index()\n",
    "    df_matrix = df_grouped.pivot('hour', 'day', 'text')\n",
    "    df_matrix_clean = df_matrix.fillna(0)\n",
    "    \n",
    "    return(df_matrix_clean)"
   ]
  },
  {
   "cell_type": "code",
   "execution_count": null,
   "metadata": {},
   "outputs": [],
   "source": [
    "ba_tweets_matrix = to_matrix(ba_tweets)\n",
    "\n",
    "ax_1 = sns.heatmap(ba_tweets_matrix)\n",
    "ax_1.set_title('Tweets sent by BA per hour of the day', size=16, weight='bold')\n",
    "ax_1.set_ylabel('Hour of the day')\n",
    "ax_1.set_xlabel('Day');"
   ]
  },
  {
   "cell_type": "code",
   "execution_count": null,
   "metadata": {},
   "outputs": [],
   "source": [
    "to_ba_tweets_matrix = to_matrix(to_ba_tweets)\n",
    "\n",
    "ax_2 = sns.heatmap(to_ba_tweets_matrix)\n",
    "ax_2.set_title('Tweets sent to BA per hour of the day', size=16, weight='bold')\n",
    "ax_2.set_ylabel('Hour of the day')\n",
    "ax_2.set_xlabel('Day');"
   ]
  },
  {
   "cell_type": "code",
   "execution_count": null,
   "metadata": {},
   "outputs": [],
   "source": [
    "ba_convers_matrix = to_matrix(ba_convers)\n",
    "\n",
    "ax_3 = sns.heatmap(ba_convers_matrix)\n",
    "ax_3.set_title('Conversations of BA per hour of the day', size=16, weight='bold')\n",
    "ax_3.set_ylabel('Hour of the day')\n",
    "ax_3.set_xlabel('Day');"
   ]
  },
  {
   "cell_type": "code",
   "execution_count": null,
   "metadata": {},
   "outputs": [],
   "source": [
    "klm_tweets_matrix = to_matrix(klm_tweets)\n",
    "\n",
    "ax_4 = sns.heatmap(klm_tweets_matrix)\n",
    "ax_4.set_title('Tweets sent by KLM per hour of the day', size=16, weight='bold')\n",
    "ax_4.set_ylabel('Hour of the day')\n",
    "ax_4.set_xlabel('Day');"
   ]
  },
  {
   "cell_type": "code",
   "execution_count": null,
   "metadata": {},
   "outputs": [],
   "source": [
    "to_klm_tweets_matrix = to_matrix(to_klm_tweets)\n",
    "\n",
    "ax_5 = sns.heatmap(to_ba_tweets_matrix)\n",
    "ax_5.set_title('Tweets sent to KLM per hour of the day', size=16, weight='bold')\n",
    "ax_5.set_ylabel('Hour of the day')\n",
    "ax_5.set_xlabel('Day');"
   ]
  },
  {
   "cell_type": "code",
   "execution_count": null,
   "metadata": {},
   "outputs": [],
   "source": [
    "klm_convers_matrix = to_matrix(klm_convers)\n",
    "\n",
    "ax_6 = sns.heatmap(ba_convers_matrix)\n",
    "ax_6.set_title('Conversations of KLM per hour of the day', size=16, weight='bold')\n",
    "ax_6.set_ylabel('Hour of the day')\n",
    "ax_6.set_xlabel('Day');"
   ]
  },
  {
   "cell_type": "code",
   "execution_count": null,
   "metadata": {
    "collapsed": true
   },
   "outputs": [],
   "source": [
    "ba_tweets['Airline'] = 'BA'\n",
    "klm_tweets['Airline'] = 'KLM'\n",
    "to_ba_tweets['Airline'] = 'BA'\n",
    "to_klm_tweets['Airline'] = 'KLM'\n",
    "ba_convers['Airline'] = 'BA'\n",
    "klm_convers['Airline'] = 'KLM'"
   ]
  },
  {
   "cell_type": "code",
   "execution_count": null,
   "metadata": {},
   "outputs": [],
   "source": [
    "by_klm_ba_tweets = pd.concat([ba_tweets, klm_tweets])\n",
    "by_tweets_grouped = by_klm_ba_tweets.groupby(['hour','Airline']).count().reset_index()\n",
    "\n",
    "by_tweets_matrix = by_tweets_grouped.pivot('hour', 'Airline','text')\n",
    "by_tweets_matrix = by_tweets_matrix.fillna(0)\n",
    "\n",
    "fig1, ax_7 = plt.subplots(figsize=(11, 7))\n",
    "sns.heatmap(by_tweets_matrix, linewidths=.5)\n",
    "ax_7.set_title('Tweets sent by BA and KLM compared per hour of the day', size=16, weight='bold');\n",
    "ax_7.set_ylabel('Hour of the day');"
   ]
  },
  {
   "cell_type": "code",
   "execution_count": null,
   "metadata": {},
   "outputs": [],
   "source": [
    "to_klm_ba_tweets = pd.concat([to_ba_tweets, to_klm_tweets])\n",
    "to_tweets_grouped = to_klm_ba_tweets.groupby(['hour','Airline']).count().reset_index()\n",
    "\n",
    "to_tweets_matrix = to_tweets_grouped.pivot('hour', 'Airline','text')\n",
    "to_tweets_matrix = to_tweets_matrix.fillna(0)\n",
    "\n",
    "fig2, ax_8 = plt.subplots(figsize=(11, 7))\n",
    "sns.heatmap(to_tweets_matrix, linewidths=.5)\n",
    "ax_8.set_title('Tweets sent to BA and KLM compared per hour of the day', size=16, weight='bold');\n",
    "ax_8.set_ylabel('Hour of the day');"
   ]
  },
  {
   "cell_type": "code",
   "execution_count": null,
   "metadata": {
    "collapsed": true
   },
   "outputs": [],
   "source": [
    "ax_8.get_figure().savefig('To KLM or BA per hour.png')"
   ]
  },
  {
   "cell_type": "code",
   "execution_count": null,
   "metadata": {},
   "outputs": [],
   "source": [
    "klm_ba_convers = pd.concat([ba_convers, klm_convers])\n",
    "tweets_convers_grouped = klm_ba_convers.groupby(['hour','Airline']).count().reset_index()\n",
    "\n",
    "tweets_convers_matrix = tweets_convers_grouped.pivot('hour', 'Airline','text')\n",
    "tweets_convers_matrix = tweets_convers_matrix.fillna(0)\n",
    "\n",
    "fig3, ax_9 = plt.subplots(figsize=(11, 7))\n",
    "sns.heatmap(tweets_convers_matrix, linewidths=.5)\n",
    "ax_9.set_title('Conversations for BA and KLM compared per hour of the day', size=16, weight='bold');\n",
    "ax_9.set_ylabel('Hour of the day');"
   ]
  },
  {
   "cell_type": "code",
   "execution_count": null,
   "metadata": {
    "collapsed": true
   },
   "outputs": [],
   "source": [
    "ax_9.get_figure().savefig('Conversation KLM and BA per hour.png')"
   ]
  },
  {
   "cell_type": "code",
   "execution_count": 11,
   "metadata": {},
   "outputs": [
    {
     "data": {
      "image/png": "[encoded data removed]",
      "text/plain": [
       "<matplotlib.figure.Figure at 0x1e084de1be0>"
      ]
     },
     "metadata": {},
     "output_type": "display_data"
    }
   ],
   "source": [
    "ax_10 = ba_convers['hour'].plot(kind='density')\n",
    "klm_convers['hour'].plot(kind='density', ax=ax_10, color='orange')\n",
    "ax_10.set_xlim(-1,24)\n",
    "ax_10.set_xlabel('Hour of the day')\n",
    "ax_10.set_title('Conversation density per hour of the day', size=16, weight='bold')\n",
    "ax_10.legend(['KLM', 'British Airways']);"
   ]
  },
  {
   "cell_type": "code",
   "execution_count": 12,
   "metadata": {
    "collapsed": true
   },
   "outputs": [],
   "source": [
    "ax_10.get_figure().savefig('Conversation density per hour.png')"
   ]
  }
 ],
 "metadata": {
  "kernelspec": {
   "display_name": "Python 3",
   "language": "python",
   "name": "python3"
  },
  "language_info": {
   "codemirror_mode": {
    "name": "ipython",
    "version": 3
   },
   "file_extension": ".py",
   "mimetype": "text/x-python",
   "name": "python",
   "nbconvert_exporter": "python",
   "pygments_lexer": "ipython3",
   "version": "3.6.1"
  }
 },
 "nbformat": 4,
 "nbformat_minor": 2
}
