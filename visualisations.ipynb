{
 "cells": [
  {
   "cell_type": "code",
   "execution_count": null,
   "metadata": {},
   "outputs": [],
   "source": [
    "klm_tweets = execute([1])[0]\n",
    "BA_tweets = execute([2])[0]\n",
    "klm_tweets['created_at'] = pd.to_datetime(klm_tweets['created_at'])\n",
    "BA_tweets['created_at'] = pd.to_datetime(BA_tweets['created_at'])"
   ]
  },
  {
   "cell_type": "code",
   "execution_count": null,
   "metadata": {},
   "outputs": [],
   "source": [
    "import datetime\n",
    "klm_tweets[\"weekday\"] = klm_tweets[\"created_at\"].dt.weekday\n",
    "klm_tweets['hour'] = klm_tweets['created_at'].dt.hour\n",
    "klm_tweets[\"month\"] = klm_tweets[\"created_at\"].dt.month\n",
    "klm_tweets['year'] = klm_tweets['created_at'].dt.year\n",
    "BA_tweets[\"weekday\"] = BA_tweets[\"created_at\"].dt.weekday\n",
    "BA_tweets['hour'] = BA_tweets['created_at'].dt.hour\n",
    "BA_tweets[\"month\"] = BA_tweets[\"created_at\"].dt.month\n",
    "BA_tweets['year'] = BA_tweets['created_at'].dt.year"
   ]
  },
  {
   "cell_type": "code",
   "execution_count": null,
   "metadata": {},
   "outputs": [],
   "source": [
    "#weekday plots\n",
    "width = 0.25\n",
    "ax = ((BA_tweets.groupby('weekday')['id'].count()/len(BA_tweets))*100).plot(kind='bar', position = 1, color='red', width=width, figsize=(8,6))\n",
    "((klm_tweets.groupby('weekday')['id'].count()/len(klm_tweets))*100).plot(kind='bar', color= 'blue', position = 0, width=width)\n",
    "ax.set_ylabel('Amount of tweets')\n",
    "ax.set_xlabel('Weekdays')\n",
    "ax.set_xticklabels(weekdays)\n",
    "ax.set_title('Amount of tweets in percentage per weekday')\n",
    "ax.legend(['BA', 'KLM'])\n",
    "plt.savefig('KLM_BA_barplot_week.png');"
   ]
  },
  {
   "cell_type": "code",
   "execution_count": null,
   "metadata": {},
   "outputs": [],
   "source": [
    "#hour plots\n",
    "ax = ((BA_tweets.groupby('hour')['id'].count()/len(BA_tweets))*100).plot(kind='bar', position = 1, color='red', width=width, figsize=(10,6))\n",
    "((klm_tweets.groupby('hour')['id'].count()/len(klm_tweets))*100).plot(kind='bar', position = 0, color='blue', width=width, figsize=(10,6))\n",
    "ax.set_title('Amount of tweets BA per hour')\n",
    "ax.set_ylabel('amount of tweets')\n",
    "ax.set_xlabel('Time in hours')\n",
    "ax.legend(['BA', 'KLM']);\n",
    "plt.savefig('BA_KLM_hour_barplot.png')"
   ]
  },
  {
   "cell_type": "code",
   "execution_count": null,
   "metadata": {},
   "outputs": [],
   "source": [
    "#month plot\n",
    "ax=klm_tweets.groupby(['year','month'])['id'].count().plot(kind='bar', position=0, color='blue', width=0.4)\n",
    "BA_tweets.groupby(['year','month'])['id'].count().plot(kind='bar', position=1, color='red', width=0.4)\n",
    "ax.set_ylabel('Amount of tweets')\n",
    "ax.set_xlabel('month')\n",
    "ax.set_xticklabels(['5-2016','6-2016','7-2016','8-2016','9-2016','10-2016','11-2016','12-2016','1-2017','2-2017','3-2017'])\n",
    "ax.legend(['BA', 'KLM'])\n",
    "ax.set_title('Amount of tweets per weekday');"
   ]
  }
 ],
 "metadata": {
  "kernelspec": {
   "display_name": "Python 3",
   "language": "python",
   "name": "python3"
  },
  "language_info": {
   "codemirror_mode": {
    "name": "ipython",
    "version": 3
   },
   "file_extension": ".py",
   "mimetype": "text/x-python",
   "name": "python",
   "nbconvert_exporter": "python",
   "pygments_lexer": "ipython3",
   "version": "3.6.5"
  }
 },
 "nbformat": 4,
 "nbformat_minor": 2
}
