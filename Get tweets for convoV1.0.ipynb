{
 "cells": [
  {
   "cell_type": "code",
   "execution_count": null,
   "metadata": {
    "collapsed": true
   },
   "outputs": [],
   "source": [
    "class ConvMaker:\n",
    "    \n",
    "    def __init__(self,tweeterlist):\n",
    "        self.list = tweeterlist\n",
    "\n",
    "    def getKlmToUser(self):\n",
    "        #makes a list of all klm tweets @ a person\n",
    "        repListKlm = []\n",
    "        #for loop which looks for any '@' in the text of the tweet\n",
    "        for item in self.list.iterrows():\n",
    "            if \"@\" in item[1]['text']:\n",
    "                repListKlm.append(item[1])\n",
    "        repKlm = pandas.DataFrame(repListKlm)\n",
    "        ########################\n",
    "        \n",
    "        \n",
    "        ########################\n",
    "        #this makes a new time object which is a numerical value which gets higher the later the data\n",
    "        value = 0\n",
    "        current_date = 'null'\n",
    "        userRepliedTo = []\n",
    "        #gets the date and sees if it is a later date if it is it assigns it a higher value\n",
    "        for tweet in repKlm.iterrows():\n",
    "            if tweet[1]['created_at'][0:10] != current_date:\n",
    "                current_date = tweet[1]['created_at'][0:10]\n",
    "                value +=1\n",
    "            tweet[1]['date'] = value\n",
    "            #makes a new dataframe with the new date value included\n",
    "            userRepliedTo.append(tweet[1])\n",
    "        ########################\n",
    "        \n",
    "        \n",
    "        ########################\n",
    "        #turns it into a dataframe, extracts only the portion between the @ and first space and deletes @ nothing and @KLM...\n",
    "        userRepliedTo = pandas.DataFrame(userRepliedTo)\n",
    "        userRepliedTo['rep_name']= userRepliedTo['text'].str.extract(r'.*(@[a-zA-Z0-9_]*).*')\n",
    "        userRepliedTo = userRepliedTo[userRepliedTo['rep_name']!='@']\n",
    "        userRepliedTo = userRepliedTo[userRepliedTo['rep_name'].str.extract(r'@(KLM).*')!='KLM']\n",
    "        userRepliedTo = userRepliedTo[userRepliedTo['rep_name'] !='@klm']\n",
    "        ###########################\n",
    "        \n",
    "        \n",
    "        ###########################\n",
    "        #gets the names of users and puts them into a list\n",
    "        userlist = list(userRepliedTo['rep_name'])\n",
    "        #removes duplicates from the list\n",
    "        userlist = list(dict.fromkeys(userlist))\n",
    "        \n",
    "        #turns the list into a dict with empty lists as values\n",
    "        userdict ={}\n",
    "        for user in userlist:\n",
    "            userdict[user] = []\n",
    "\n",
    "        #appends the tweets to their corresponding names, so now the dict contains all tweets of a person grouped toghether\n",
    "        for tweet in userRepliedTo.iterrows():\n",
    "            try:\n",
    "                userdict[tweet[1]['rep_name']].append(tweet[1])\n",
    "            except:\n",
    "                print('non dict value appended')\n",
    "\n",
    "        #turns the dict into a list of lists of dicts, sorted by unique person\n",
    "        dfpersons = []\n",
    "        for person in userdict.keys():\n",
    "            dfpersons.append(userdict[person])\n",
    "        ####################################  \n",
    "        \n",
    "        ####################################\n",
    "        replist = []\n",
    "        for person in dfpersons:\n",
    "            person = pandas.DataFrame(person)\n",
    "            for tweet in person.iterrows():\n",
    "                bar = tweet[1]['in_reply_to_status_id_str']\n",
    "                if bar != None:\n",
    "                    replist.append(bar)\n",
    "\n",
    "        return dfpersons,replist\n"
   ]
  },
  {
   "cell_type": "code",
   "execution_count": null,
   "metadata": {
    "collapsed": true
   },
   "outputs": [],
   "source": [
    "################################\n",
    "#EXAMPLE\n",
    "###############################\n",
    "sentlist = RawDataUserFilter('json/filenames.txt','month1','KLMnumb shortlist.txt', 'json/').getKlmAllBB()\n",
    "sentlist = FrameConcat(sentbyList).concatinator()\n",
    "listOfTweetsSortByPerson = []\n",
    "for i in range(0,len(sentlist)):\n",
    "    listOfTweetsSortByPerson.append(ConvMaker(sentlist[i]).getKlmToUser())\n",
    "pandas.DataFrame(a[0][0][15])"
   ]
  },
  {
   "cell_type": "code",
   "execution_count": null,
   "metadata": {
    "collapsed": true
   },
   "outputs": [],
   "source": [
    "class OriginTweet:\n",
    "    \n",
    "    def __init__(self,textlist,path,listOfReplies):\n",
    "        self.text = textlist\n",
    "        self.path = path\n",
    "        self.rep = listOfReplies\n",
    "\n",
    "    def getInitTweet(self):\n",
    "        data = []\n",
    "        for filename in self.text:\n",
    "            linecount = 0\n",
    "            with open(self.path+filename) as f:\n",
    "                for line in f:\n",
    "                    linecount +=1\n",
    "                    try:\n",
    "                        curline = json.loads(line)\n",
    "                        if curline['id_str'] in self.rep:\n",
    "                            data.append(curline)\n",
    "                    except:\n",
    "                        print(\"fault in line:\"+str(linecount))\n",
    "        data = pandas.DataFrame(data)\n",
    "        return data\n"
   ]
  },
  {
   "cell_type": "code",
   "execution_count": 1,
   "metadata": {
    "collapsed": true
   },
   "outputs": [],
   "source": [
    "##########################\n",
    "#EXAMPLE\n",
    "##########################\n",
    "textlist = RawDataUserFilter('json/filenames.txt','month1',3,'json/').textmaker()\n",
    "path = 'json/'\n",
    "listOfReplies = listOfTweetsSortByPerson[0][1]\n",
    "OriginTweet(textlist,path,listOfReplies).getInitTweet()"
   ]
  },
  {
   "cell_type": "code",
   "execution_count": null,
   "metadata": {
    "collapsed": true
   },
   "outputs": [],
   "source": []
  }
 ],
 "metadata": {
  "kernelspec": {
   "display_name": "Python 3",
   "language": "python",
   "name": "python3"
  },
  "language_info": {
   "codemirror_mode": {
    "name": "ipython",
    "version": 3
   },
   "file_extension": ".py",
   "mimetype": "text/x-python",
   "name": "python",
   "nbconvert_exporter": "python",
   "pygments_lexer": "ipython3",
   "version": "3.6.1"
  }
 },
 "nbformat": 4,
 "nbformat_minor": 2
}
